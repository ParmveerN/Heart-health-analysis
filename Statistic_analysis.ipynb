{
  "nbformat": 4,
  "nbformat_minor": 0,
  "metadata": {
    "colab": {
      "name": "Statistics.ipynb",
      "provenance": [],
      "collapsed_sections": [
        "SwD4nikLmkA6",
        "0FpsuTQZKBNg",
        "UzZagquto9xj"
      ],
      "mount_file_id": "1ALe-Mo3NhQjR-26pHjzrOsOAdRRH0pXi",
      "authorship_tag": "ABX9TyPvtkaSes7tuEEcma1KkHFy",
      "include_colab_link": true
    },
    "kernelspec": {
      "name": "python3",
      "display_name": "Python 3"
    }
  },
  "cells": [
    {
      "cell_type": "markdown",
      "metadata": {
        "id": "view-in-github",
        "colab_type": "text"
      },
      "source": [
        "<a href=\"https://colab.research.google.com/github/ParmveerN/Heart-health-analysis/blob/master/Statistic_analysis.ipynb\" target=\"_parent\"><img src=\"https://colab.research.google.com/assets/colab-badge.svg\" alt=\"Open In Colab\"/></a>"
      ]
    },
    {
      "cell_type": "markdown",
      "metadata": {
        "id": "SwD4nikLmkA6",
        "colab_type": "text"
      },
      "source": [
        "#imports\n"
      ]
    },
    {
      "cell_type": "code",
      "metadata": {
        "id": "KGzk8hdOMc0k",
        "colab_type": "code",
        "colab": {
          "base_uri": "https://localhost:8080/",
          "height": 51
        },
        "outputId": "4af4f59b-96f4-41c6-c00c-3ed39007973d"
      },
      "source": [
        "import pandas as pd\n",
        "import math as ma\n",
        "import numpy as np\n",
        "import matplotlib.pyplot as plt\n",
        "import seaborn as sns\n",
        "import scipy as sp\n",
        "from sklearn.model_selection import GridSearchCV,train_test_split,cross_val_score\n",
        "from sklearn.metrics import classification_report,confusion_matrix\n",
        "from sklearn.linear_model import LogisticRegression\n",
        "from sklearn.naive_bayes import GaussianNB\n",
        "from sklearn.neighbors import KNeighborsClassifier\n",
        "from sklearn.tree import DecisionTreeClassifier\n",
        "from sklearn.ensemble import RandomForestClassifier\n",
        "from sklearn.ensemble import GradientBoostingClassifier\n",
        "from sklearn.model_selection import train_test_split\n",
        "from sklearn.decomposition import PCA\n",
        "from sklearn.metrics import roc_curve, auc\n",
        "import os"
      ],
      "execution_count": null,
      "outputs": [
        {
          "output_type": "stream",
          "text": [
            "/usr/local/lib/python3.6/dist-packages/statsmodels/tools/_testing.py:19: FutureWarning: pandas.util.testing is deprecated. Use the functions in the public API at pandas.testing instead.\n",
            "  import pandas.util.testing as tm\n"
          ],
          "name": "stderr"
        }
      ]
    },
    {
      "cell_type": "code",
      "metadata": {
        "id": "CrQM7gmiNvzk",
        "colab_type": "code",
        "colab": {}
      },
      "source": [
        "df = pd.read_csv('/content/drive/My Drive/data-science/heart-disease-project/heart.csv')"
      ],
      "execution_count": null,
      "outputs": []
    },
    {
      "cell_type": "markdown",
      "metadata": {
        "id": "0FpsuTQZKBNg",
        "colab_type": "text"
      },
      "source": [
        "#Data checking"
      ]
    },
    {
      "cell_type": "code",
      "metadata": {
        "id": "lYvK206hf9nQ",
        "colab_type": "code",
        "colab": {
          "base_uri": "https://localhost:8080/",
          "height": 483
        },
        "outputId": "6c7912ba-c910-4341-cc7d-bc2a73bb6993"
      },
      "source": [
        "df.corr()\n",
        "#checking all correlation between all variables"
      ],
      "execution_count": null,
      "outputs": [
        {
          "output_type": "execute_result",
          "data": {
            "text/html": [
              "<div>\n",
              "<style scoped>\n",
              "    .dataframe tbody tr th:only-of-type {\n",
              "        vertical-align: middle;\n",
              "    }\n",
              "\n",
              "    .dataframe tbody tr th {\n",
              "        vertical-align: top;\n",
              "    }\n",
              "\n",
              "    .dataframe thead th {\n",
              "        text-align: right;\n",
              "    }\n",
              "</style>\n",
              "<table border=\"1\" class=\"dataframe\">\n",
              "  <thead>\n",
              "    <tr style=\"text-align: right;\">\n",
              "      <th></th>\n",
              "      <th>age</th>\n",
              "      <th>sex</th>\n",
              "      <th>cp</th>\n",
              "      <th>trestbps</th>\n",
              "      <th>chol</th>\n",
              "      <th>fbs</th>\n",
              "      <th>restecg</th>\n",
              "      <th>thalach</th>\n",
              "      <th>exang</th>\n",
              "      <th>oldpeak</th>\n",
              "      <th>slope</th>\n",
              "      <th>ca</th>\n",
              "      <th>thal</th>\n",
              "      <th>target</th>\n",
              "    </tr>\n",
              "  </thead>\n",
              "  <tbody>\n",
              "    <tr>\n",
              "      <th>age</th>\n",
              "      <td>1.000000</td>\n",
              "      <td>-0.098447</td>\n",
              "      <td>-0.068653</td>\n",
              "      <td>0.279351</td>\n",
              "      <td>0.213678</td>\n",
              "      <td>0.121308</td>\n",
              "      <td>-0.116211</td>\n",
              "      <td>-0.398522</td>\n",
              "      <td>0.096801</td>\n",
              "      <td>0.210013</td>\n",
              "      <td>-0.168814</td>\n",
              "      <td>0.276326</td>\n",
              "      <td>0.068001</td>\n",
              "      <td>-0.225439</td>\n",
              "    </tr>\n",
              "    <tr>\n",
              "      <th>sex</th>\n",
              "      <td>-0.098447</td>\n",
              "      <td>1.000000</td>\n",
              "      <td>-0.049353</td>\n",
              "      <td>-0.056769</td>\n",
              "      <td>-0.197912</td>\n",
              "      <td>0.045032</td>\n",
              "      <td>-0.058196</td>\n",
              "      <td>-0.044020</td>\n",
              "      <td>0.141664</td>\n",
              "      <td>0.096093</td>\n",
              "      <td>-0.030711</td>\n",
              "      <td>0.118261</td>\n",
              "      <td>0.210041</td>\n",
              "      <td>-0.280937</td>\n",
              "    </tr>\n",
              "    <tr>\n",
              "      <th>cp</th>\n",
              "      <td>-0.068653</td>\n",
              "      <td>-0.049353</td>\n",
              "      <td>1.000000</td>\n",
              "      <td>0.047608</td>\n",
              "      <td>-0.076904</td>\n",
              "      <td>0.094444</td>\n",
              "      <td>0.044421</td>\n",
              "      <td>0.295762</td>\n",
              "      <td>-0.394280</td>\n",
              "      <td>-0.149230</td>\n",
              "      <td>0.119717</td>\n",
              "      <td>-0.181053</td>\n",
              "      <td>-0.161736</td>\n",
              "      <td>0.433798</td>\n",
              "    </tr>\n",
              "    <tr>\n",
              "      <th>trestbps</th>\n",
              "      <td>0.279351</td>\n",
              "      <td>-0.056769</td>\n",
              "      <td>0.047608</td>\n",
              "      <td>1.000000</td>\n",
              "      <td>0.123174</td>\n",
              "      <td>0.177531</td>\n",
              "      <td>-0.114103</td>\n",
              "      <td>-0.046698</td>\n",
              "      <td>0.067616</td>\n",
              "      <td>0.193216</td>\n",
              "      <td>-0.121475</td>\n",
              "      <td>0.101389</td>\n",
              "      <td>0.062210</td>\n",
              "      <td>-0.144931</td>\n",
              "    </tr>\n",
              "    <tr>\n",
              "      <th>chol</th>\n",
              "      <td>0.213678</td>\n",
              "      <td>-0.197912</td>\n",
              "      <td>-0.076904</td>\n",
              "      <td>0.123174</td>\n",
              "      <td>1.000000</td>\n",
              "      <td>0.013294</td>\n",
              "      <td>-0.151040</td>\n",
              "      <td>-0.009940</td>\n",
              "      <td>0.067023</td>\n",
              "      <td>0.053952</td>\n",
              "      <td>-0.004038</td>\n",
              "      <td>0.070511</td>\n",
              "      <td>0.098803</td>\n",
              "      <td>-0.085239</td>\n",
              "    </tr>\n",
              "    <tr>\n",
              "      <th>fbs</th>\n",
              "      <td>0.121308</td>\n",
              "      <td>0.045032</td>\n",
              "      <td>0.094444</td>\n",
              "      <td>0.177531</td>\n",
              "      <td>0.013294</td>\n",
              "      <td>1.000000</td>\n",
              "      <td>-0.084189</td>\n",
              "      <td>-0.008567</td>\n",
              "      <td>0.025665</td>\n",
              "      <td>0.005747</td>\n",
              "      <td>-0.059894</td>\n",
              "      <td>0.137979</td>\n",
              "      <td>-0.032019</td>\n",
              "      <td>-0.028046</td>\n",
              "    </tr>\n",
              "    <tr>\n",
              "      <th>restecg</th>\n",
              "      <td>-0.116211</td>\n",
              "      <td>-0.058196</td>\n",
              "      <td>0.044421</td>\n",
              "      <td>-0.114103</td>\n",
              "      <td>-0.151040</td>\n",
              "      <td>-0.084189</td>\n",
              "      <td>1.000000</td>\n",
              "      <td>0.044123</td>\n",
              "      <td>-0.070733</td>\n",
              "      <td>-0.058770</td>\n",
              "      <td>0.093045</td>\n",
              "      <td>-0.072042</td>\n",
              "      <td>-0.011981</td>\n",
              "      <td>0.137230</td>\n",
              "    </tr>\n",
              "    <tr>\n",
              "      <th>thalach</th>\n",
              "      <td>-0.398522</td>\n",
              "      <td>-0.044020</td>\n",
              "      <td>0.295762</td>\n",
              "      <td>-0.046698</td>\n",
              "      <td>-0.009940</td>\n",
              "      <td>-0.008567</td>\n",
              "      <td>0.044123</td>\n",
              "      <td>1.000000</td>\n",
              "      <td>-0.378812</td>\n",
              "      <td>-0.344187</td>\n",
              "      <td>0.386784</td>\n",
              "      <td>-0.213177</td>\n",
              "      <td>-0.096439</td>\n",
              "      <td>0.421741</td>\n",
              "    </tr>\n",
              "    <tr>\n",
              "      <th>exang</th>\n",
              "      <td>0.096801</td>\n",
              "      <td>0.141664</td>\n",
              "      <td>-0.394280</td>\n",
              "      <td>0.067616</td>\n",
              "      <td>0.067023</td>\n",
              "      <td>0.025665</td>\n",
              "      <td>-0.070733</td>\n",
              "      <td>-0.378812</td>\n",
              "      <td>1.000000</td>\n",
              "      <td>0.288223</td>\n",
              "      <td>-0.257748</td>\n",
              "      <td>0.115739</td>\n",
              "      <td>0.206754</td>\n",
              "      <td>-0.436757</td>\n",
              "    </tr>\n",
              "    <tr>\n",
              "      <th>oldpeak</th>\n",
              "      <td>0.210013</td>\n",
              "      <td>0.096093</td>\n",
              "      <td>-0.149230</td>\n",
              "      <td>0.193216</td>\n",
              "      <td>0.053952</td>\n",
              "      <td>0.005747</td>\n",
              "      <td>-0.058770</td>\n",
              "      <td>-0.344187</td>\n",
              "      <td>0.288223</td>\n",
              "      <td>1.000000</td>\n",
              "      <td>-0.577537</td>\n",
              "      <td>0.222682</td>\n",
              "      <td>0.210244</td>\n",
              "      <td>-0.430696</td>\n",
              "    </tr>\n",
              "    <tr>\n",
              "      <th>slope</th>\n",
              "      <td>-0.168814</td>\n",
              "      <td>-0.030711</td>\n",
              "      <td>0.119717</td>\n",
              "      <td>-0.121475</td>\n",
              "      <td>-0.004038</td>\n",
              "      <td>-0.059894</td>\n",
              "      <td>0.093045</td>\n",
              "      <td>0.386784</td>\n",
              "      <td>-0.257748</td>\n",
              "      <td>-0.577537</td>\n",
              "      <td>1.000000</td>\n",
              "      <td>-0.080155</td>\n",
              "      <td>-0.104764</td>\n",
              "      <td>0.345877</td>\n",
              "    </tr>\n",
              "    <tr>\n",
              "      <th>ca</th>\n",
              "      <td>0.276326</td>\n",
              "      <td>0.118261</td>\n",
              "      <td>-0.181053</td>\n",
              "      <td>0.101389</td>\n",
              "      <td>0.070511</td>\n",
              "      <td>0.137979</td>\n",
              "      <td>-0.072042</td>\n",
              "      <td>-0.213177</td>\n",
              "      <td>0.115739</td>\n",
              "      <td>0.222682</td>\n",
              "      <td>-0.080155</td>\n",
              "      <td>1.000000</td>\n",
              "      <td>0.151832</td>\n",
              "      <td>-0.391724</td>\n",
              "    </tr>\n",
              "    <tr>\n",
              "      <th>thal</th>\n",
              "      <td>0.068001</td>\n",
              "      <td>0.210041</td>\n",
              "      <td>-0.161736</td>\n",
              "      <td>0.062210</td>\n",
              "      <td>0.098803</td>\n",
              "      <td>-0.032019</td>\n",
              "      <td>-0.011981</td>\n",
              "      <td>-0.096439</td>\n",
              "      <td>0.206754</td>\n",
              "      <td>0.210244</td>\n",
              "      <td>-0.104764</td>\n",
              "      <td>0.151832</td>\n",
              "      <td>1.000000</td>\n",
              "      <td>-0.344029</td>\n",
              "    </tr>\n",
              "    <tr>\n",
              "      <th>target</th>\n",
              "      <td>-0.225439</td>\n",
              "      <td>-0.280937</td>\n",
              "      <td>0.433798</td>\n",
              "      <td>-0.144931</td>\n",
              "      <td>-0.085239</td>\n",
              "      <td>-0.028046</td>\n",
              "      <td>0.137230</td>\n",
              "      <td>0.421741</td>\n",
              "      <td>-0.436757</td>\n",
              "      <td>-0.430696</td>\n",
              "      <td>0.345877</td>\n",
              "      <td>-0.391724</td>\n",
              "      <td>-0.344029</td>\n",
              "      <td>1.000000</td>\n",
              "    </tr>\n",
              "  </tbody>\n",
              "</table>\n",
              "</div>"
            ],
            "text/plain": [
              "               age       sex        cp  ...        ca      thal    target\n",
              "age       1.000000 -0.098447 -0.068653  ...  0.276326  0.068001 -0.225439\n",
              "sex      -0.098447  1.000000 -0.049353  ...  0.118261  0.210041 -0.280937\n",
              "cp       -0.068653 -0.049353  1.000000  ... -0.181053 -0.161736  0.433798\n",
              "trestbps  0.279351 -0.056769  0.047608  ...  0.101389  0.062210 -0.144931\n",
              "chol      0.213678 -0.197912 -0.076904  ...  0.070511  0.098803 -0.085239\n",
              "fbs       0.121308  0.045032  0.094444  ...  0.137979 -0.032019 -0.028046\n",
              "restecg  -0.116211 -0.058196  0.044421  ... -0.072042 -0.011981  0.137230\n",
              "thalach  -0.398522 -0.044020  0.295762  ... -0.213177 -0.096439  0.421741\n",
              "exang     0.096801  0.141664 -0.394280  ...  0.115739  0.206754 -0.436757\n",
              "oldpeak   0.210013  0.096093 -0.149230  ...  0.222682  0.210244 -0.430696\n",
              "slope    -0.168814 -0.030711  0.119717  ... -0.080155 -0.104764  0.345877\n",
              "ca        0.276326  0.118261 -0.181053  ...  1.000000  0.151832 -0.391724\n",
              "thal      0.068001  0.210041 -0.161736  ...  0.151832  1.000000 -0.344029\n",
              "target   -0.225439 -0.280937  0.433798  ... -0.391724 -0.344029  1.000000\n",
              "\n",
              "[14 rows x 14 columns]"
            ]
          },
          "metadata": {
            "tags": []
          },
          "execution_count": 3
        }
      ]
    },
    {
      "cell_type": "code",
      "metadata": {
        "id": "3-t-3avhf_c0",
        "colab_type": "code",
        "colab": {
          "base_uri": "https://localhost:8080/",
          "height": 606
        },
        "outputId": "ff207e12-7ac3-4e68-fdc1-5725887e4bfa"
      },
      "source": [
        "plt.figure(figsize=(10, 10))\n",
        "\n",
        "sns.distplot(df['age'], kde=False, norm_hist=True)\n",
        "pdf_params = sp.stats.norm.fit(df['age'])\n",
        "age_norm_pdf = sp.stats.norm.pdf(df['age'], *pdf_params)\n",
        "#checking age distrubtion correlation to norm\n",
        "sns.lineplot(df['age'], age_norm_pdf)\n",
        "\n",
        "plt.show()"
      ],
      "execution_count": null,
      "outputs": [
        {
          "output_type": "display_data",
          "data": {
            "image/png": "[encoded data removed]",
            "text/plain": [
              "<Figure size 720x720 with 1 Axes>"
            ]
          },
          "metadata": {
            "tags": [],
            "needs_background": "light"
          }
        }
      ]
    },
    {
      "cell_type": "code",
      "metadata": {
        "id": "PWsYm87ypV46",
        "colab_type": "code",
        "colab": {}
      },
      "source": [
        "dfX = df.drop('target', axis=1)\n",
        "dfY = df['target']\n",
        "#making data set for training and testing"
      ],
      "execution_count": null,
      "outputs": []
    },
    {
      "cell_type": "markdown",
      "metadata": {
        "id": "UzZagquto9xj",
        "colab_type": "text"
      },
      "source": [
        "#Logistic Regression"
      ]
    },
    {
      "cell_type": "code",
      "metadata": {
        "id": "xBhTDBoYqMuz",
        "colab_type": "code",
        "colab": {}
      },
      "source": [
        "X_train, X_test, y_train, y_test = train_test_split(dfX, dfY, test_size=0.20, random_state=30)\n",
        "#sizing the data set"
      ],
      "execution_count": null,
      "outputs": []
    },
    {
      "cell_type": "code",
      "metadata": {
        "id": "AiQe04KLwmy-",
        "colab_type": "code",
        "colab": {
          "base_uri": "https://localhost:8080/",
          "height": 85
        },
        "outputId": "264664f9-bdeb-48d8-e6ea-3b5ab0b3086f"
      },
      "source": [
        "print('X_train', X_train.shape)\n",
        "print('X_test', X_test.shape)\n",
        "print('y_train', y_train.shape)\n",
        "print('y_test', y_test.shape)"
      ],
      "execution_count": null,
      "outputs": [
        {
          "output_type": "stream",
          "text": [
            "X_train (242, 13)\n",
            "X_test (61, 13)\n",
            "y_train (242,)\n",
            "y_test (61,)\n"
          ],
          "name": "stdout"
        }
      ]
    },
    {
      "cell_type": "code",
      "metadata": {
        "id": "_z3OfQnew6dF",
        "colab_type": "code",
        "colab": {}
      },
      "source": [
        "X_train = ((X_train-np.min(X_train))/(np.max(X_train)- np.min(X_train))).values\n",
        "\n",
        "X_test = ((X_test-np.min(X_test))/(np.max(X_test)-np.min(X_test))).values\n",
        "#normalizing the data"
      ],
      "execution_count": null,
      "outputs": []
    },
    {
      "cell_type": "code",
      "metadata": {
        "id": "X2uYWszAh3qz",
        "colab_type": "code",
        "colab": {
          "base_uri": "https://localhost:8080/",
          "height": 34
        },
        "outputId": "b5cda260-42f1-4267-930b-c5f66c940619"
      },
      "source": [
        "pca = PCA().fit(X_train)\n",
        "cummulative_sum = np.cumsum(pca.explained_variance_ratio_)\n",
        "np.where((cummulative_sum < 0.96) & (cummulative_sum > 0.94))[0][0] + 1\n",
        "#found the pca and the variance ratio to find the where the two values are at its highest peek"
      ],
      "execution_count": null,
      "outputs": [
        {
          "output_type": "execute_result",
          "data": {
            "text/plain": [
              "8"
            ]
          },
          "metadata": {
            "tags": []
          },
          "execution_count": 43
        }
      ]
    },
    {
      "cell_type": "code",
      "metadata": {
        "id": "S3_17cXmrS0H",
        "colab_type": "code",
        "colab": {
          "base_uri": "https://localhost:8080/",
          "height": 592
        },
        "outputId": "6c55f39d-976a-4d01-8d91-964c11e6f700"
      },
      "source": [
        "plt.figure(figsize=(10, 10))\n",
        "sns.lineplot(x=np.linspace(1, len(cummulative_sum), len(cummulative_sum)), y=cummulative_sum)\n",
        "plt.show()\n",
        "#used a graph to visually look at best cummulative sum"
      ],
      "execution_count": null,
      "outputs": [
        {
          "output_type": "display_data",
          "data": {
            "image/png": "[encoded data removed]",
            "text/plain": [
              "<Figure size 720x720 with 1 Axes>"
            ]
          },
          "metadata": {
            "tags": [],
            "needs_background": "light"
          }
        }
      ]
    },
    {
      "cell_type": "code",
      "metadata": {
        "id": "iU80esCC9sY_",
        "colab_type": "code",
        "colab": {
          "base_uri": "https://localhost:8080/",
          "height": 279
        },
        "outputId": "47567635-1a62-4018-b85b-8cb377eca84a"
      },
      "source": [
        "pca = PCA(n_components=10)\n",
        "pca.fit(X_train)\n",
        "reduced_df_train = pca.transform(X_train)\n",
        "plt.scatter(reduced_df_train[:,0], reduced_df_train[:,1])\n",
        "plt.xlabel('First principal component')\n",
        "plt.ylabel('Second principal component')\n",
        "plt.show()\n",
        "#transforming the data to be reduced so it is easier to test on while using x_train"
      ],
      "execution_count": null,
      "outputs": [
        {
          "output_type": "display_data",
          "data": {
            "image/png": "[encoded data removed]",
            "text/plain": [
              "<Figure size 432x288 with 1 Axes>"
            ]
          },
          "metadata": {
            "tags": [],
            "needs_background": "light"
          }
        }
      ]
    },
    {
      "cell_type": "code",
      "metadata": {
        "id": "ZWtbaieaA46X",
        "colab_type": "code",
        "colab": {
          "base_uri": "https://localhost:8080/",
          "height": 279
        },
        "outputId": "4d4a151f-a825-4e8d-c1f2-64d9375de31a"
      },
      "source": [
        "pca = PCA(n_components=10)\n",
        "pca.fit(X_test)\n",
        "reduced_df_test = pca.transform(X_test)\n",
        "plt.scatter(reduced_df_test[:,0], reduced_df_test[:,1])\n",
        "plt.xlabel('First principal component')\n",
        "plt.ylabel('Second principal component')\n",
        "plt.show()\n",
        "#same thing as before transforming the data to reduced test data for training"
      ],
      "execution_count": null,
      "outputs": [
        {
          "output_type": "display_data",
          "data": {
            "image/png": "[encoded data removed]",
            "text/plain": [
              "<Figure size 432x288 with 1 Axes>"
            ]
          },
          "metadata": {
            "tags": [],
            "needs_background": "light"
          }
        }
      ]
    },
    {
      "cell_type": "code",
      "metadata": {
        "id": "lsmECxz2EoEf",
        "colab_type": "code",
        "colab": {}
      },
      "source": [
        "reduced_df_train = pd.DataFrame(reduced_df_train, columns=['Dim1', 'Dim2', 'Dim3', 'Dim4','Dim5','Dim6','Dim7','Dim8','Dim9','Dim10'])\n",
        "reduced_df_test = pd.DataFrame(reduced_df_test, columns=['Dim1', 'Dim2', 'Dim3', 'Dim4','Dim5','Dim6','Dim7','Dim8','Dim9','Dim10'])\n",
        "X_train = reduced_df_train\n",
        "X_test = reduced_df_test\n",
        "#using the reduced data i made my own 10 columes "
      ],
      "execution_count": null,
      "outputs": []
    },
    {
      "cell_type": "code",
      "metadata": {
        "id": "ToIX4cEDGWa9",
        "colab_type": "code",
        "colab": {}
      },
      "source": [
        "#setting up plotting function for roc_curve of logistic regression which will be done later\n",
        "def plot_roc_(flase_positive_rate, true_positive_rate, roc_auc):\n",
        "  plt.figure(figsize=(5,5))\n",
        "  plt.title('Reciever operating charateristic')\n",
        "  plt.plot(flase_positive_rate, true_positive_rate, color='red', label='AUC = %0.2f'% roc_auc)\n",
        "  plt.legend(loc='lower right')\n",
        "  plt.plot([0,1],[0,1], linestyle='--')\n",
        "  plt.axis('tight')\n",
        "  plt.ylabel('True positive rate')\n",
        "  plt.xlabel('false positive rate')\n",
        "  plt.show()\n",
        "def plot_feature_importances(gbm):\n",
        "  n_features = X_train.shape[1]\n",
        "  plt.brah(range(n_features), gbm.features_importances_, align='center')\n",
        "  plt.yticks(np.arange(n_features), X_train.columns)\n",
        "  plt.xlabel(\"Features importance\")\n",
        "  plt.ylabel(\"Features\")\n",
        "  plt.ylim(-1, n_features)"
      ],
      "execution_count": null,
      "outputs": []
    },
    {
      "cell_type": "code",
      "metadata": {
        "id": "DEEzaWzn-XAu",
        "colab_type": "code",
        "colab": {
          "base_uri": "https://localhost:8080/",
          "height": 476
        },
        "outputId": "b1d5597a-c1e8-4235-cdf7-6314f4e4f211"
      },
      "source": [
        "#besting the best pair for logistic regression for penalty, C and random state\n",
        "parameters = [\n",
        "{\n",
        "    'penalty':['l1','l2'],\n",
        "    'C':[0.1,0.4,0.5, 10, 50, 100],\n",
        "    'random_state':[0]\n",
        "    },\n",
        "]\n",
        "\n",
        "gslog = GridSearchCV(LogisticRegression(), parameters, scoring='accuracy')\n",
        "gslog.fit(X_train, y_train)\n",
        "print('Best parameters set')\n",
        "print(gslog.best_params_)\n",
        "print()\n"
      ],
      "execution_count": null,
      "outputs": [
        {
          "output_type": "stream",
          "text": [
            "/usr/local/lib/python3.6/dist-packages/sklearn/model_selection/_validation.py:536: FitFailedWarning: Estimator fit failed. The score on this train-test partition for these parameters will be set to nan. Details: \n",
            "ValueError: Solver lbfgs supports only 'l2' or 'none' penalties, got l1 penalty.\n",
            "\n",
            "  FitFailedWarning)\n",
            "/usr/local/lib/python3.6/dist-packages/sklearn/model_selection/_validation.py:536: FitFailedWarning: Estimator fit failed. The score on this train-test partition for these parameters will be set to nan. Details: \n",
            "ValueError: Solver lbfgs supports only 'l2' or 'none' penalties, got l1 penalty.\n",
            "\n",
            "  FitFailedWarning)\n",
            "/usr/local/lib/python3.6/dist-packages/sklearn/model_selection/_validation.py:536: FitFailedWarning: Estimator fit failed. The score on this train-test partition for these parameters will be set to nan. Details: \n",
            "ValueError: Solver lbfgs supports only 'l2' or 'none' penalties, got l1 penalty.\n",
            "\n",
            "  FitFailedWarning)\n",
            "/usr/local/lib/python3.6/dist-packages/sklearn/model_selection/_validation.py:536: FitFailedWarning: Estimator fit failed. The score on this train-test partition for these parameters will be set to nan. Details: \n",
            "ValueError: Solver lbfgs supports only 'l2' or 'none' penalties, got l1 penalty.\n",
            "\n",
            "  FitFailedWarning)\n",
            "/usr/local/lib/python3.6/dist-packages/sklearn/model_selection/_validation.py:536: FitFailedWarning: Estimator fit failed. The score on this train-test partition for these parameters will be set to nan. Details: \n",
            "ValueError: Solver lbfgs supports only 'l2' or 'none' penalties, got l1 penalty.\n",
            "\n",
            "  FitFailedWarning)\n"
          ],
          "name": "stderr"
        },
        {
          "output_type": "stream",
          "text": [
            "Best parameters set\n",
            "{'C': 0.4, 'penalty': 'l2', 'random_state': 0}\n",
            "\n"
          ],
          "name": "stdout"
        },
        {
          "output_type": "stream",
          "text": [
            "/usr/local/lib/python3.6/dist-packages/sklearn/model_selection/_validation.py:536: FitFailedWarning: Estimator fit failed. The score on this train-test partition for these parameters will be set to nan. Details: \n",
            "ValueError: Solver lbfgs supports only 'l2' or 'none' penalties, got l1 penalty.\n",
            "\n",
            "  FitFailedWarning)\n"
          ],
          "name": "stderr"
        }
      ]
    },
    {
      "cell_type": "code",
      "metadata": {
        "id": "dmsUjMOvmOa4",
        "colab_type": "code",
        "colab": {
          "base_uri": "https://localhost:8080/",
          "height": 102
        },
        "outputId": "51922715-f9b2-4e4d-b8c5-b738cd7e7336"
      },
      "source": [
        "#using the data retreavied from aboce we are fitting the data \n",
        "lr = LogisticRegression(C= gslog.best_params_[\"C\"], penalty= gslog.best_params_[\"penalty\"], random_state= gslog.best_params_[\"random_state\"])\n",
        "\n",
        "lr.fit(X_train, y_train)\n"
      ],
      "execution_count": null,
      "outputs": [
        {
          "output_type": "execute_result",
          "data": {
            "text/plain": [
              "LogisticRegression(C=0.4, class_weight=None, dual=False, fit_intercept=True,\n",
              "                   intercept_scaling=1, l1_ratio=None, max_iter=100,\n",
              "                   multi_class='auto', n_jobs=None, penalty='l2',\n",
              "                   random_state=0, solver='lbfgs', tol=0.0001, verbose=0,\n",
              "                   warm_start=False)"
            ]
          },
          "metadata": {
            "tags": []
          },
          "execution_count": 19
        }
      ]
    },
    {
      "cell_type": "code",
      "metadata": {
        "id": "2SoRtwOSxXB8",
        "colab_type": "code",
        "colab": {}
      },
      "source": [
        "#finding the prediction and probablity of x_test\n",
        "y_pred = lr.predict(X_test)\n",
        "y_proba = lr.predict_proba(X_test)\n"
      ],
      "execution_count": null,
      "outputs": []
    },
    {
      "cell_type": "code",
      "metadata": {
        "id": "cn9-NdDny4va",
        "colab_type": "code",
        "colab": {
          "base_uri": "https://localhost:8080/",
          "height": 350
        },
        "outputId": "0584633c-3f93-4ea5-ce4c-4c0553326a9b"
      },
      "source": [
        "##plotting the roc curve using the function from above and finding the false and true rates\n",
        "false_positive_rate, true_positive_rate, thresholds = roc_curve(y_test, y_proba[:,1])\n",
        "rocC = auc(false_positive_rate, true_positive_rate)\n",
        "plot_roc_(false_positive_rate, true_positive_rate, rocC)"
      ],
      "execution_count": null,
      "outputs": [
        {
          "output_type": "display_data",
          "data": {
            "image/png": "[encoded data removed]",
            "text/plain": [
              "<Figure size 360x360 with 1 Axes>"
            ]
          },
          "metadata": {
            "tags": [],
            "needs_background": "light"
          }
        }
      ]
    },
    {
      "cell_type": "code",
      "metadata": {
        "id": "BueKNNeWy0d5",
        "colab_type": "code",
        "colab": {
          "base_uri": "https://localhost:8080/",
          "height": 51
        },
        "outputId": "0947c228-b3d1-4ccd-f592-1764ddc51746"
      },
      "source": [
        "#set up confusion matrix for better understanding the vectors\n",
        "cm = confusion_matrix(y_test, y_pred)\n",
        "print(cm)"
      ],
      "execution_count": null,
      "outputs": [
        {
          "output_type": "stream",
          "text": [
            "[[15  9]\n",
            " [12 25]]\n"
          ],
          "name": "stdout"
        }
      ]
    },
    {
      "cell_type": "code",
      "metadata": {
        "id": "3FnptYhek8ne",
        "colab_type": "code",
        "colab": {
          "base_uri": "https://localhost:8080/",
          "height": 170
        },
        "outputId": "de260e73-8739-4843-8b47-f1286ea7577c"
      },
      "source": [
        "print(classification_report(y_test, y_pred))"
      ],
      "execution_count": null,
      "outputs": [
        {
          "output_type": "stream",
          "text": [
            "              precision    recall  f1-score   support\n",
            "\n",
            "           0       0.56      0.62      0.59        24\n",
            "           1       0.74      0.68      0.70        37\n",
            "\n",
            "    accuracy                           0.66        61\n",
            "   macro avg       0.65      0.65      0.65        61\n",
            "weighted avg       0.66      0.66      0.66        61\n",
            "\n"
          ],
          "name": "stdout"
        }
      ]
    },
    {
      "cell_type": "code",
      "metadata": {
        "id": "G8WOVYTvoKnV",
        "colab_type": "code",
        "colab": {
          "base_uri": "https://localhost:8080/",
          "height": 187
        },
        "outputId": "d17f7f97-1f9e-4f0f-b568-a6a0a7c3b3f3"
      },
      "source": [
        "print(lr.coef_)\n",
        "print(\"\")\n",
        "print(lr.intercept_)\n",
        "print(\"\")\n",
        "print(lr.predict_log_proba)"
      ],
      "execution_count": null,
      "outputs": [
        {
          "output_type": "stream",
          "text": [
            "[[-2.52562359 -0.35799223 -0.22847988 -1.61938799  0.53296351 -0.21530303\n",
            "  -0.87682299  0.50310785  0.01106115 -0.09757243]]\n",
            "\n",
            "[0.11585538]\n",
            "\n",
            "<bound method LogisticRegression.predict_log_proba of LogisticRegression(C=0.4, class_weight=None, dual=False, fit_intercept=True,\n",
            "                   intercept_scaling=1, l1_ratio=None, max_iter=100,\n",
            "                   multi_class='auto', n_jobs=None, penalty='l2',\n",
            "                   random_state=0, solver='lbfgs', tol=0.0001, verbose=0,\n",
            "                   warm_start=False)>\n"
          ],
          "name": "stdout"
        }
      ]
    },
    {
      "cell_type": "markdown",
      "metadata": {
        "id": "irNf2n8-Kl5Y",
        "colab_type": "text"
      },
      "source": [
        "#Kmeans"
      ]
    },
    {
      "cell_type": "code",
      "metadata": {
        "id": "LyPOFU77Knd2",
        "colab_type": "code",
        "colab": {
          "base_uri": "https://localhost:8080/",
          "height": 68
        },
        "outputId": "5e73ec88-aa39-4727-83cb-0e19a8f629d0"
      },
      "source": [
        "#finsing the parameters for kmean testing\n",
        "parameters=[\n",
        "    {\n",
        "        'n_neighbors': np.arange(1,33),\n",
        "        'n_jobs':[2,6]\n",
        "    },\n",
        "]\n",
        "gskmean = GridSearchCV(KNeighborsClassifier(), parameters, scoring = 'accuracy')\n",
        "gskmean.fit(X_train, y_train)\n",
        "print('Best paramets set')\n",
        "print(gskmean.best_params_)\n",
        "print()"
      ],
      "execution_count": null,
      "outputs": [
        {
          "output_type": "stream",
          "text": [
            "Best paramets set\n",
            "{'n_jobs': 2, 'n_neighbors': 9}\n",
            "\n"
          ],
          "name": "stdout"
        }
      ]
    },
    {
      "cell_type": "code",
      "metadata": {
        "id": "toytrSqNOYoR",
        "colab_type": "code",
        "colab": {
          "base_uri": "https://localhost:8080/",
          "height": 68
        },
        "outputId": "a3c8c793-d7f8-4436-9999-6f694da6548b"
      },
      "source": [
        "#using the kmean parameters found above finding the classifier\n",
        "knn = KNeighborsClassifier(n_neighbors=gskmean.best_params_[\"n_neighbors\"], n_jobs=gskmean.best_params_[\"n_jobs\"])\n",
        "knn.fit(X_train, y_train)"
      ],
      "execution_count": null,
      "outputs": [
        {
          "output_type": "execute_result",
          "data": {
            "text/plain": [
              "KNeighborsClassifier(algorithm='auto', leaf_size=30, metric='minkowski',\n",
              "                     metric_params=None, n_jobs=2, n_neighbors=9, p=2,\n",
              "                     weights='uniform')"
            ]
          },
          "metadata": {
            "tags": []
          },
          "execution_count": 27
        }
      ]
    },
    {
      "cell_type": "code",
      "metadata": {
        "id": "jmELEIDSe4BI",
        "colab_type": "code",
        "colab": {}
      },
      "source": [
        "#finding the x_test kmean prediction and probablity\n",
        "kn_y_pred = knn.predict(X_test)\n",
        "kn_y_proba = knn.predict_proba(X_test)"
      ],
      "execution_count": null,
      "outputs": []
    },
    {
      "cell_type": "code",
      "metadata": {
        "id": "pr_dpWxVhNBA",
        "colab_type": "code",
        "colab": {
          "base_uri": "https://localhost:8080/",
          "height": 350
        },
        "outputId": "23a6a41f-ae53-4502-81d6-6c8dc458a4e0"
      },
      "source": [
        "kn_false_positive_rate, kn_true_positive_rate, kn_thresholds = roc_curve(y_test, kn_y_proba[:,1])\n",
        "kn_rocC = auc(kn_false_positive_rate, kn_true_positive_rate)\n",
        "plot_roc_(kn_false_positive_rate, kn_true_positive_rate, kn_rocC)"
      ],
      "execution_count": null,
      "outputs": [
        {
          "output_type": "display_data",
          "data": {
            "image/png": "[encoded data removed]",
            "text/plain": [
              "<Figure size 360x360 with 1 Axes>"
            ]
          },
          "metadata": {
            "tags": [],
            "needs_background": "light"
          }
        }
      ]
    },
    {
      "cell_type": "code",
      "metadata": {
        "id": "0zeEmJO5igyF",
        "colab_type": "code",
        "colab": {}
      },
      "source": [
        "kn_cm = confusion_matrix(y_test, kn_y_pred)"
      ],
      "execution_count": null,
      "outputs": []
    },
    {
      "cell_type": "code",
      "metadata": {
        "id": "ZJ4cA_ASiqiM",
        "colab_type": "code",
        "colab": {
          "base_uri": "https://localhost:8080/",
          "height": 170
        },
        "outputId": "0887ae9c-27f1-4081-ce55-1dd107a6df54"
      },
      "source": [
        "print(classification_report(y_test, kn_y_pred))"
      ],
      "execution_count": null,
      "outputs": [
        {
          "output_type": "stream",
          "text": [
            "              precision    recall  f1-score   support\n",
            "\n",
            "           0       0.54      0.58      0.56        24\n",
            "           1       0.71      0.68      0.69        37\n",
            "\n",
            "    accuracy                           0.64        61\n",
            "   macro avg       0.63      0.63      0.63        61\n",
            "weighted avg       0.65      0.64      0.64        61\n",
            "\n"
          ],
          "name": "stdout"
        }
      ]
    },
    {
      "cell_type": "code",
      "metadata": {
        "id": "PpKIoF4bivkM",
        "colab_type": "code",
        "colab": {
          "base_uri": "https://localhost:8080/",
          "height": 279
        },
        "outputId": "9d6fbf79-99cd-4430-a01e-44b781162e89"
      },
      "source": [
        "n_neighbors = range(1,20)\n",
        "train_data_accuracy = []\n",
        "test_data_accuracy = []\n",
        "for n_neigh in n_neighbors:\n",
        "  knn = KNeighborsClassifier(n_neighbors=n_neigh, n_jobs=gskmean.best_params_[\"n_jobs\"])\n",
        "  knn.fit(X_train, y_train)\n",
        "  train_data_accuracy.append(knn.score(X_train, y_train))\n",
        "  test_data_accuracy.append(knn.score(X_test, y_test))\n",
        "plt.plot(n_neighbors, train_data_accuracy, label= \"train data set\")\n",
        "plt.plot(n_neighbors, test_data_accuracy, label=\"test data set\")\n",
        "plt.xlabel(\"Accuracy\")\n",
        "plt.ylabel(\"Neighbors\")\n",
        "plt.legend()\n",
        "plt.show()"
      ],
      "execution_count": null,
      "outputs": [
        {
          "output_type": "display_data",
          "data": {
            "image/png": "[encoded data removed]",
            "text/plain": [
              "<Figure size 432x288 with 1 Axes>"
            ]
          },
          "metadata": {
            "tags": [],
            "needs_background": "light"
          }
        }
      ]
    },
    {
      "cell_type": "code",
      "metadata": {
        "id": "D3YOAwlXkI5w",
        "colab_type": "code",
        "colab": {
          "base_uri": "https://localhost:8080/",
          "height": 54
        },
        "outputId": "88eaa773-b560-45c1-a2a4-d61875b35415"
      },
      "source": [
        "n_neighbors = range(1,20)\n",
        "k_score = []\n",
        "for n_neigh in n_neighbors:\n",
        "  knn = KNeighborsClassifier(n_neighbors=n_neigh, n_jobs=gskmean.best_params_[\"n_jobs\"])\n",
        "  scores = cross_val_score(estimator=knn, X=X_train, y= y_train, cv=12)\n",
        "  k_score.append(scores.mean())\n",
        "print(k_score)"
      ],
      "execution_count": null,
      "outputs": [
        {
          "output_type": "stream",
          "text": [
            "[0.7563492063492063, 0.7113095238095237, 0.7978174603174604, 0.7813492063492063, 0.7934523809523809, 0.8097222222222223, 0.817857142857143, 0.826190476190476, 0.8180555555555555, 0.8057539682539682, 0.7847222222222223, 0.7890873015873017, 0.7932539682539682, 0.7851190476190476, 0.7767857142857143, 0.7809523809523808, 0.7726190476190474, 0.7849206349206348, 0.7803571428571429]\n"
          ],
          "name": "stdout"
        }
      ]
    }
  ]
}